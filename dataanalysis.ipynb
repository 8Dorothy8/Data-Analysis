{
 "cells": [
  {
   "cell_type": "markdown",
   "metadata": {},
   "source": [
    "# Exploratory Data Analysis ATCS Final Project"
   ]
  },
  {
   "cell_type": "markdown",
   "metadata": {},
   "source": [
    "Dataset from Kaggle: https://www.kaggle.com/datasets/antaresnyc/human-gut-microbiome-with-asd?resource=download\n",
    "\n",
    "Business Understanding/Goal: Get some information about the correlation between Autism Spectrum Disorder (ASD) and the composition of the microbiome."
   ]
  },
  {
   "cell_type": "markdown",
   "metadata": {},
   "source": [
    "## 1. Import Libraries"
   ]
  },
  {
   "cell_type": "code",
   "execution_count": null,
   "metadata": {},
   "outputs": [],
   "source": [
    "import pandas as pd\n",
    "import matplotlib.pyplot as plt\n",
    "import seaborn as sns\n",
    "\n",
    "pd.set_option(\"display.max_columns\", 200)"
   ]
  },
  {
   "cell_type": "markdown",
   "metadata": {},
   "source": [
    "# Data Exploration"
   ]
  },
  {
   "cell_type": "markdown",
   "metadata": {},
   "source": [
    "## 2. Load the Dataset"
   ]
  },
  {
   "cell_type": "code",
   "execution_count": null,
   "metadata": {},
   "outputs": [],
   "source": [
    "df = pd.read_csv(\"data/ASD meta abundance.csv\")"
   ]
  },
  {
   "cell_type": "markdown",
   "metadata": {},
   "source": [
    "## 3. Understand the Data"
   ]
  },
  {
   "cell_type": "code",
   "execution_count": null,
   "metadata": {},
   "outputs": [],
   "source": [
    "df.shape\n",
    "df.head(10)\n",
    "df.columns"
   ]
  },
  {
   "cell_type": "markdown",
   "metadata": {},
   "source": [
    "# Data Cleaning"
   ]
  },
  {
   "cell_type": "markdown",
   "metadata": {},
   "source": [
    "Changes to make to the dataset\n",
    "- check for duplicates (there are none)\n",
    "- transpose the data so the user ID is on the left, and it's easier to sum the amount of each bacteria\n",
    "- the columns are formatted with the correct string (could change to be just the phylum)\n",
    "- there are no null values"
   ]
  },
  {
   "cell_type": "markdown",
   "metadata": {},
   "source": [
    "## 4. Check for Duplicates & Null Values"
   ]
  },
  {
   "cell_type": "code",
   "execution_count": null,
   "metadata": {},
   "outputs": [],
   "source": [
    "df.duplicated().sum()\n",
    "df.isna().sum() / df.shape[0]"
   ]
  },
  {
   "cell_type": "markdown",
   "metadata": {},
   "source": [
    "## 5. Transpose the Data"
   ]
  },
  {
   "cell_type": "code",
   "execution_count": null,
   "metadata": {},
   "outputs": [],
   "source": [
    "df = df.set_index('Taxonomy')\n",
    "df = df.transpose()"
   ]
  },
  {
   "cell_type": "code",
   "execution_count": null,
   "metadata": {},
   "outputs": [],
   "source": [
    "df.head(5)"
   ]
  },
  {
   "cell_type": "markdown",
   "metadata": {},
   "source": [
    "## 6. Create seperate datatables for the ASD and control patients"
   ]
  },
  {
   "cell_type": "code",
   "execution_count": null,
   "metadata": {},
   "outputs": [],
   "source": [
    "# taking the index, turning it into a string, and checking if it contains A\n",
    "\n",
    "ASD = df.loc[df.index.str.contains('A')]\n",
    "control = df.loc[df.index.str.contains('B')]"
   ]
  },
  {
   "cell_type": "markdown",
   "metadata": {},
   "source": [
    "# Exploratory Data Analysis"
   ]
  },
  {
   "cell_type": "markdown",
   "metadata": {},
   "source": [
    "## 6. Find the important bacteria columns"
   ]
  },
  {
   "cell_type": "code",
   "execution_count": null,
   "metadata": {},
   "outputs": [],
   "source": [
    "# find the bacteria columns with the least and most average value counts throughout all users\n",
    "df.mean().sort_values(ascending=False)"
   ]
  },
  {
   "cell_type": "code",
   "execution_count": null,
   "metadata": {},
   "outputs": [],
   "source": [
    "# Find the most common bacteria in ASD patients\n",
    "ASD.mean().sort_values(ascending=False)"
   ]
  },
  {
   "cell_type": "markdown",
   "metadata": {},
   "source": [
    "the most and leat common bacteria in ASD patients is:\n",
    "Taxonomy\n",
    "g__Faecalibacterium;s__Faecalibacterium prausnitzii                                4942.800000\n",
    "g__Clostridium;s__uncultured Clostridium sp.                                       3708.966667\n",
    "g__Hungatella;s__Hungatella hathewayi                                              3386.533333\n",
    "g__Phascolarctobacterium;s__Phascolarctobacterium sp. CAG:207                      1627.100000\n",
    "g__Clostridium;s__Clostridium sp. CAG:7                                            1611.266667\n",
    "                                                                                      ...     \n",
    "g__Paenibacillus;s__Paenibacillus sp. 181mfcol5.1                                     0.000000\n",
    "g__Mesotoga;s__Mesotoga infera                                                        0.000000\n",
    "g__Streptococcus;s__Streptococcus sp. SK643                                           0.000000\n",
    "g__Unclassified;s__Candidatus Sungbacteria bacterium RIFCSPHIGHO2_02_FULL_52_23       0.000000\n",
    "g__Unclassified;s__Freshwater phage uvFW-CGR-AMD-COM-C203                             0.000000"
   ]
  },
  {
   "cell_type": "code",
   "execution_count": null,
   "metadata": {},
   "outputs": [],
   "source": [
    "# Find the most common bacteria in control patients\n",
    "\n",
    "control.mean().sort_values(ascending=False)"
   ]
  },
  {
   "cell_type": "markdown",
   "metadata": {},
   "source": [
    "## 7. Numerical Data Analysis"
   ]
  },
  {
   "cell_type": "code",
   "execution_count": null,
   "metadata": {},
   "outputs": [],
   "source": [
    "# bacteria = [g__Faecalibacterium;s__Faecalibacterium prausnitzii\tg__Hungatella;s__Hungatella hathewayi\tg__Clostridium;s__uncultured Clostridium sp.\tg__Butyricimonas;s__Butyricimonas virosa\tg__Alistipes;s__Alistipes indistinctus\tg__Unclassified;s__Firmicutes bacterium CAG:176\tg__Clostridium;s__Clostridium sp. CAG:7\tg__Unclassified;s__Firmicutes bacterium CAG:882\tg__Lachnoclostridium;s__[Clostridium] asparagiforme\tg__Butyricicoccus;s__uncultured Butyricicoccus sp.\tg__Unclassified;s__Firmicutes bacterium CAG:95\tg__Oscillibacter;s__Oscillibacter sp. ER4\tg__Desulfovibrio;s__Desulfovibrio piger\tg__Fusobacterium;s__Fusobacterium mortiferum\tg__Clostridium;s__Clostridium sp. GD3\tg__Unclassified;s__Firmicutes bacterium CAG:124\tg__Unclassified;s__Burkholderiales bacterium YL45\tg__Ruminococcus;s__Ruminococcus callidus\tg__Flavonifractor;s__uncultured Flavonifractor sp.\tg__Subdoligranulum;s__Subdoligranulum variabile\tg__Clostridium;s__Clostridium sp. CAG:127\tg__Clostridium;s__Clostridium sp. CAG:510\tg__Phascolarctobacterium;s__Phascolarctobacterium sp. CAG:207\tg__Eubacterium;s__Eubacterium sp. CAG:38\tg__Eubacterium;s__Eubacterium sp. CAG:192\tg__Clostridium;s__Clostridium sp. CAG:242\tg__Roseburia;s__Roseburia sp. CAG:380\tg__Ruminococcus;s__Ruminococcus sp. CAG:254\tg__Prevotella;s__Prevotella copri\tg__Unclassified;s__Firmicutes bacterium CAG:110\tg__Ruminococcus;s__uncultured Ruminococcus sp.\tg__Clostridium;s__Clostridium sp. CAG:75\tg__Lachnoclostridium;s__[Clostridium] bolteae\tg__Prevotella;s__Prevotella sp. CAG:1092\tg__Holdemanella;s__Holdemanella biformis\tg__Prevotella;s__Prevotella sp. CAG:279\tg__Dialister;s__Dialister succinatiphilus\tg__Eubacterium;s__Eubacterium sp. CAG:252\tg__Alistipes;s__Alistipes sp. CAG:268\tg__Ruminococcus;s__Ruminococcus lactaris\tg__Eubacterium;s__Eubacterium sp. CAG:202\tg__Faecalibacterium;s__Faecalibacterium sp. CAG:74\tg__Clostridium;s__Clostridium sp. CAG:277\tg__Prevotella;s__Prevotella sp. CAG:1058\tg__Roseburia;s__Roseburia inulinivorans\tg__Phascolarctobacterium;s__Phascolarctobacterium sp. CAG:266\tg__Akkermansia;s__Akkermansia sp. CAG:344\tg__Prevotella;s__Prevotella sp. CAG:1031\tg__Eubacterium;s__Eubacterium sp. CAG:156\tg__Clostridium;s__Clostridium sp. CAG:299\tg__Sutterella;s__Sutterella parvirubra\tg__Mycoplasma;s__Mycoplasma sp. CAG:472\tg__Megasphaera;s__Megasphaera sp. DJF_B143\tg__Eubacterium;s__Eubacterium sp. CAG:786\tg__Unclassified;s__Firmicutes bacterium CAG:137\tg__Escherichia;s__Escherichia coli\tg__Unclassified;s__Firmicutes bacterium CAG:103\tg__Unclassified;s__[Eubacterium] rectale\tg__Clostridium;s__Clostridium sp. CAG:62\tg__Roseburia;s__Roseburia intestinalis\tg__Coprobacillus;s__Coprobacillus sp. CAG:605\tg__Bacteroides;s__Bacteroides fragilis\tg__Eubacterium;s__Eubacterium ventriosum\tg__Clostridium;s__Clostridium sp. CAG:43\tg__Bilophila;s__Bilophila wadsworthia\tg__Unclassified;s__Firmicutes bacterium CAG:313\tg__Ruminococcus;s__Ruminococcus sp. CAG:488\tg__Clostridium;s__Clostridium sp. CAG:245\tg__Clostridium;s__Clostridium sp. CAG:451\tg__Clostridium;s__Clostridium sp. CAG:269\tg__Clostridium;s__Clostridium sp. CAG:58\tg__Eubacterium;s__Eubacterium sp. CAG:86\tg__Eubacterium;s__[Eubacterium] eligens\tg__Ruminiclostridium;s__[Eubacterium] siraeum\tg__Faecalibacterium;s__Faecalibacterium sp. CAG:82\tg__Clostridium;s__Clostridium sp. CAG:417\tg__Roseburia;s__Roseburia sp. CAG:197\tg__Bifidobacterium;s__Bifidobacterium adolescentis\tg__Bacteroides;s__Bacteroides vulgatus\tg__Odoribacter;s__Odoribacter splanchnicus\tg__Bacteroides;s__Bacteroides uniformis\tg__Eubacterium;s__Eubacterium sp. CAG:248\tg__Phascolarctobacterium;s__Phascolarctobacterium succinatutens\tg__Bacteroides;s__Bacteroides thetaiotaomicron\tg__Clostridium;s__Clostridium sp. KLE 1755\tg__Unclassified;s__Firmicutes bacterium CAG:345\tg__Clostridium;s__Clostridium sp. AT5\tg__Bacteroides;s__Bacteroides stercoris\tg__Clostridium;s__Clostridium sp. CAG:302\tg__Bacteroides;s__Bacteroides ovatus\tg__Unclassified;s__Lachnospiraceae bacterium TF01-11\tg__Unclassified;s__Firmicutes bacterium CAG:129\tg__Blautia;s__[Ruminococcus] torques\tg__Sutterella;s__Sutterella sp. CAG:397\tg__Unclassified;s__Firmicutes bacterium CAG:170\tg__Parabacteroides;s__Parabacteroides merdae\tg__Oscillibacter;s__Oscillibacter sp. CAG:241\tg__Prevotella;s__Prevotella sp. KHD1\tg__Prevotella;s__Prevotella copri CAG:164\tg__Clostridium;s__Clostridium sp. CAG:343\t...\tg__Clostridium;s__Clostridium sp. NCR\tg__Caviibacter;s__Caviibacter abscessus\tg__Unclassified;s__Ignavibacteria bacterium RIFCSPLOWO2_12_FULL_56_21\tg__Unclassified;s__Nitrospira bacterium SG8_35_4\tg__Unclassified;s__Nitrospirae bacterium GWC2_57_9\tg__Asticcacaulis;s__Asticcacaulis benevestitus\tg__Aureimonas;s__Aureimonas altamirensis\tg__Mesorhizobium;s__Mesorhizobium muleiense\tg__Mesorhizobium;s__Mesorhizobium qingshengii\tg__Mesorhizobium;s__Mesorhizobium sp. Root552\tg__Kaistia;s__Kaistia granuli\tg__Tepidicaulis;s__Tepidicaulis marinus\tg__Labrys;s__Labrys sp. WJW\tg__Falsirhodobacter;s__Falsirhodobacter sp. alg1\tg__Rhodobacter;s__Rhodobacter sp. CACIA14H1\tg__Roseobacter;s__Roseobacter sp. SK209-2-6\tg__Sulfitobacter;s__Sulfitobacter geojensis\tg__Asaia;s__Asaia astilbis\tg__Skermanella;s__Skermanella aerolata\tg__Elioraea;s__Elioraea tepidiphila\tg__Novosphingobium;s__Novosphingobium acidiphilum\tg__Bordetella;s__Bordetella sp. SCN 68-11\tg__Pusillimonas;s__Pusillimonas sp. T7-7\tg__Caballeronia;s__Paraburkholderia sordidicola\tg__Paraburkholderia;s__Paraburkholderia andropogonis\tg__Paraburkholderia;s__Paraburkholderia nodosa\tg__Duganella;s__Duganella sp. Root1480D1\tg__Janthinobacterium;s__Janthinobacterium agaricidamnosum\tg__Sphaerotilus;s__Sphaerotilus natans\tg__Ferrovum;s__Ferrovum sp. JA12\tg__Ferriphaselus;s__Ferriphaselus amnicola\tg__Methylophilus;s__Methylophilus sp. TWE2\tg__Aquitalea;s__Aquitalea pelogenes\tg__Chitiniphilus;s__Chitiniphilus shinanonensis\tg__Eikenella;s__Eikenella corrodens\tg__Neisseria;s__Neisseria mucosa\tg__Neisseria;s__Neisseria sp. HMSC055H02\tg__Neisseria;s__Neisseria sp. HMSC061B04\tg__Neisseria;s__Neisseria sp. HMSC066H01\tg__Neisseria;s__Neisseria sp. HMSC068C04\tg__Snodgrassella;s__Snodgrassella sp. R-53583\tg__Nitrosomonas;s__Nitrosomonas marina\tg__Azoarcus;s__Azoarcus sp. KH32C\tg__Desulfovibrio;s__Desulfovibrio sp. L21-Syr-AB\tg__Hippea;s__Hippea sp. KM1\tg__Unclassified;s__Deltaproteobacteria bacterium RIFOXYD12_FULL_55_16\tg__Unclassified;s__Deltaproteobacteria bacterium RIFOXYD12_FULL_56_24\tg__Nautilia;s__Nautilia profundicola\tg__Sulfurovum;s__Sulfurovum lithotrophicum\tg__Aeromonas;s__Aeromonas media\tg__Thioalkalivibrio;s__Thioalkalivibrio sp. ALE16\tg__Enterobacter;s__Enterobacter sp. BWH52\tg__Enterobacter;s__Enterobacter sp. NFIX09\tg__Klebsiella;s__Klebsiella oxytoca\tg__Mangrovibacter;s__Mangrovibacter sp. MFB070\tg__Unclassified;s__Type-F symbiont of Plautia stali\tg__Tatumella;s__Tatumella morbirosei\tg__Providencia;s__Providencia stuartii\tg__Yersinia;s__Yersinia pestis\tg__Legionella;s__Legionella erythra\tg__Legionella;s__Legionella spiritensis\tg__Methylobacter;s__Methylobacter luteus\tg__Nevskia;s__Nevskia soli\tg__Endozoicomonas;s__Endozoicomonas sp. ab112\tg__Terasakiispira;s__Terasakiispira papahanaumokuakeensis\tg__Avibacterium;s__Avibacterium paragallinarum\tg__Acinetobacter;s__Acinetobacter soli\tg__Acinetobacter;s__Acinetobacter sp. NIPH 284\tg__Pseudomonas;s__Pseudomonas batumici\tg__Pseudomonas;s__Pseudomonas caeni\tg__Pseudomonas;s__Pseudomonas extremorientalis\tg__Pseudomonas;s__Pseudomonas sp. BAY1663\tg__Pseudomonas;s__Pseudomonas veronii\tg__Unclassified;s__Bathymodiolus septemdierum thioautotrophic gill symbiont\tg__Unclassified;s__Gammaproteobacteria bacterium RBG_16_51_14\tg__Unclassified;s__Gammaproteobacteria bacterium RIFCSPHIGHO2_12_FULL_63_22\tg__Vibrio;s__Vibrio sp. OY15\tg__Rhodanobacter;s__Rhodanobacter sp. Root561\tg__Mycoplasma;s__Mycoplasma arginini\tg__Mycoplasma;s__Mycoplasma penetrans\tg__Thermodesulfatator;s__Thermodesulfatator indicus\tg__Unclassified;s__candidate division TA06 bacterium DG_78\tg__Unclassified;s__uncultured marine bacterium EB0_49D07\tg__Sugiyamaella;s__Sugiyamaella lignohabitans\tg__Calocera;s__Calocera cornea\tg__Uromyces;s__Uromyces hobsonii\tg__Mitosporidium;s__Mitosporidium daphniae\tg__Lichtheimia;s__Lichtheimia ramosa\tg__T4virus;s__Aeromonas phage phiAS5\tg__Unclassified;s__Bacillus phage BCD7\tg__Unclassified;s__Clostridium phage c-st\tg__Unclassified;s__Enterococcus phage EFDG1\tg__Unclassified;s__Podovirus Lau218\tg__Sap6virus;s__Enterococcus phage VD13\tg__Unclassified;s__Bacillus phage vB_BanS-Tsamsa\tg__Unclassified;s__Gordonia phage GTE2\tg__Alphabaculovirus;s__Hyphantria cunea nucleopolyhedrovirus\tg__Potyvirus;s__Bean common mosaic virus\tg__Potyvirus;s__Telosma mosaic virus\tg__Unclassified;s__Freshwater phage uvFW-CGR-AMD-COM-C203]"
   ]
  },
  {
   "cell_type": "code",
   "execution_count": null,
   "metadata": {},
   "outputs": [],
   "source": [
    "# bar graph of the number of Faecalibacterium prausnitzii for ASD patients\n",
    "sns.barplot(data=ASD, y=\"g__Faecalibacterium;s__Faecalibacterium prausnitzii\", x=ASD.index)\n",
    "plt.title(\"Presence of Faecalibacterium prausnitzii\")"
   ]
  },
  {
   "cell_type": "markdown",
   "metadata": {},
   "source": [
    "# Statistical Analysis"
   ]
  },
  {
   "cell_type": "markdown",
   "metadata": {},
   "source": [
    "Statistical Questions:\n",
    "- Which bacteria is most and least common for ASD patients?\n",
    "- Which bacteria has the greatest difference among ASD and control patients?\n",
    "- Is the diversity of the microbiome different?"
   ]
  },
  {
   "cell_type": "markdown",
   "metadata": {},
   "source": [
    "## 1. Which bacteria is most and least common for ASD patients? "
   ]
  },
  {
   "cell_type": "markdown",
   "metadata": {},
   "source": [
    "## 2. Which bacteria has the greatest difference among ASD and control patients?\n"
   ]
  },
  {
   "cell_type": "markdown",
   "metadata": {},
   "source": [
    "## 3. Is the diversity of the microbiome different between ASD & control?"
   ]
  },
  {
   "cell_type": "markdown",
   "metadata": {},
   "source": [
    "for all A s, find the number of bacteria columns that are 0, then compare to the B s"
   ]
  },
  {
   "cell_type": "code",
   "execution_count": null,
   "metadata": {},
   "outputs": [],
   "source": [
    "# chatgpt\n",
    "def count_zeros(df):\n",
    "    count = 0\n",
    "    for column in df.columns:\n",
    "        count += (df[column] == 0).sum()\n",
    "    return count\n",
    "#\n",
    "\n",
    "zero_count_ASD = count_zeros(ASD)\n",
    "zero_count_control = count_zeros(control)\n",
    "zero_count_control, zero_count_ASD"
   ]
  },
  {
   "cell_type": "markdown",
   "metadata": {},
   "source": [
    "thus, the microbiome diversity is greater in a normal patient. This isn't as accurate as the Shannon Index, but it gets a basic understanding."
   ]
  }
 ],
 "metadata": {
  "kernelspec": {
   "display_name": "Python 3.10.5 64-bit",
   "language": "python",
   "name": "python3"
  },
  "language_info": {
   "codemirror_mode": {
    "name": "ipython",
    "version": 3
   },
   "file_extension": ".py",
   "mimetype": "text/x-python",
   "name": "python",
   "nbconvert_exporter": "python",
   "pygments_lexer": "ipython3",
   "version": "3.10.5"
  },
  "orig_nbformat": 4,
  "vscode": {
   "interpreter": {
    "hash": "aee8b7b246df8f9039afb4144a1f6fd8d2ca17a180786b69acc140d282b71a49"
   }
  }
 },
 "nbformat": 4,
 "nbformat_minor": 2
}
